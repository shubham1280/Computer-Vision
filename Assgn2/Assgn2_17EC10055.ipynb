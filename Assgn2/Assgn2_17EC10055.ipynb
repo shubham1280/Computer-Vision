{
  "nbformat": 4,
  "nbformat_minor": 0,
  "metadata": {
    "colab": {
      "name": "Assgn2_17EC10055.ipynb",
      "provenance": [],
      "collapsed_sections": []
    },
    "kernelspec": {
      "name": "python3",
      "display_name": "Python 3"
    }
  },
  "cells": [
    {
      "cell_type": "code",
      "metadata": {
        "id": "LsfsQXqJe9vo"
      },
      "source": [
        "import os\n",
        "from PIL import Image\n",
        "import numpy as np\n",
        "import math\n",
        "import glob"
      ],
      "execution_count": 2,
      "outputs": []
    },
    {
      "cell_type": "code",
      "metadata": {
        "id": "VZ3-6wadfQ-q"
      },
      "source": [
        "####Uploaded the given file 10images.zip\n",
        "import zipfile\n",
        "zip_ref = zipfile.ZipFile(\"10images.zip\", \"r\")\n",
        "zip_ref.extractall(\"./data\")\n",
        "zip_ref.close()"
      ],
      "execution_count": 4,
      "outputs": []
    },
    {
      "cell_type": "code",
      "metadata": {
        "id": "82RRfasychwb"
      },
      "source": [
        "def img_number(name):\n",
        "  return int(name.split('/')[2].split('.')[0])"
      ],
      "execution_count": 5,
      "outputs": []
    },
    {
      "cell_type": "code",
      "metadata": {
        "id": "mK16SpcngGJx"
      },
      "source": [
        "images = []\n",
        "pattern = os.path.join('./data/*.tiff')\n",
        "img_list = glob.glob(pattern)\n",
        "img_list.sort(key=img_number)\n",
        "for filename in img_list:\n",
        "  # print(filename)\n",
        "  im = Image.open(filename)\n",
        "  images.append(np.array(im))"
      ],
      "execution_count": 6,
      "outputs": []
    },
    {
      "cell_type": "code",
      "metadata": {
        "id": "mowKANgUgLR3"
      },
      "source": [
        "def RGBtoHSI(img):\n",
        "  H = img.shape[0]\n",
        "  W = img.shape[1]\n",
        "  C = 3\n",
        "  cnt = 0\n",
        "  HSI_avg = np.zeros(3)\n",
        "  img = img.astype('float')/255.0\n",
        "  for x in range(H):\n",
        "    for y in range(W):\n",
        "      r=img[x,y,0]\n",
        "      g=img[x,y,1]\n",
        "      b=img[x,y,2]\n",
        "      if r==g and g==b :\n",
        "        continue\n",
        "      else:\n",
        "        cnt+=1\n",
        "        HSI_avg[2] += (r+g+b)/3\n",
        "        HSI_avg[1] += (1-min(r,min(g,b))/(r+g+b)*3)\n",
        "        theta = np.arccos(np.clip(0.5*(2*r-g-b)/np.sqrt((r-g)*(r-g)+(r-b)*(g-b)),0,1))*180/np.pi\n",
        "        if b<=g:\n",
        "          HSI_avg[0] += theta\n",
        "        else:\n",
        "          HSI_avg[0] += (360-theta)\n",
        "  HSI_avg /= cnt\n",
        "  return HSI_avg"
      ],
      "execution_count": 7,
      "outputs": []
    },
    {
      "cell_type": "code",
      "metadata": {
        "colab": {
          "base_uri": "https://localhost:8080/"
        },
        "id": "vXbZxofVhXJB",
        "outputId": "f1539063-497d-435b-de99-0600b2912776"
      },
      "source": [
        "#Task 1 \n",
        "p=0.75\n",
        "print(f\"TASK 1 for p = {p}\")\n",
        "print(\"Image \\t \\t H_diff \\t  S_diff \\t  I_diff\")\n",
        "for i in range(0,len(images)):\n",
        "  img = images[i]\n",
        "  img_mod = img*p\n",
        "  HSI = RGBtoHSI(img)\n",
        "  HSI_new = RGBtoHSI(img_mod)\n",
        "  if i==9:\n",
        "    print(f\"{i+1}.tiff \\t {HSI_new[0]-HSI[0]:.4f} \\t {HSI_new[1]-HSI[1]:.4f} \\t {HSI_new[2]-HSI[2]:.4f}\")\n",
        "  else:\n",
        "    print(f\"{i+1}.tiff \\t \\t {HSI_new[0]-HSI[0]:.4f} \\t {HSI_new[1]-HSI[1]:.4f} \\t {HSI_new[2]-HSI[2]:.4f}\")"
      ],
      "execution_count": 46,
      "outputs": [
        {
          "output_type": "stream",
          "text": [
            "TASK 1 for p = 0.75\n",
            "Image \t \t H_diff \t  S_diff \t  I_diff\n",
            "1.tiff \t \t 0.0000 \t 0.0000 \t -0.0333\n",
            "2.tiff \t \t 0.0000 \t 0.0000 \t -0.1156\n",
            "3.tiff \t \t -0.0000 \t 0.0000 \t -0.1378\n",
            "4.tiff \t \t -0.0000 \t 0.0000 \t -0.1641\n",
            "5.tiff \t \t -0.0000 \t 0.0000 \t -0.1068\n",
            "6.tiff \t \t 0.0000 \t 0.0000 \t -0.1240\n",
            "7.tiff \t \t 0.0000 \t 0.0000 \t -0.1783\n",
            "8.tiff \t \t -0.0000 \t 0.0000 \t -0.1210\n",
            "9.tiff \t \t 0.0000 \t 0.0000 \t -0.1085\n",
            "10.tiff \t -0.0000 \t 0.0000 \t -0.1257\n"
          ],
          "name": "stdout"
        }
      ]
    },
    {
      "cell_type": "code",
      "metadata": {
        "colab": {
          "base_uri": "https://localhost:8080/"
        },
        "id": "v0oiOkNqhZOm",
        "outputId": "19ba9108-b32d-406d-ce92-976488a0f329"
      },
      "source": [
        "#Task 2 \n",
        "print(\"TASK 2\")\n",
        "print(\"Image \\t \\t H_diff \\t  S_diff \\t  I_diff\")\n",
        "for i in range(0,len(images)):\n",
        "  img = images[i]\n",
        "  r,g,b = img[:,:,0],img[:,:,1],img[:,:,2]\n",
        "  img_mod = np.stack([g,b,r],axis=-1)\n",
        "  HSI = RGBtoHSI(img)\n",
        "  HSI_new = RGBtoHSI(img_mod)\n",
        "  if i==9:\n",
        "    print(f\"{i+1}.tiff \\t {HSI_new[0]-HSI[0]:.4f} \\t {HSI_new[1]-HSI[1]:.4f} \\t {HSI_new[2]-HSI[2]:.4f}\")\n",
        "  else:\n",
        "    print(f\"{i+1}.tiff \\t \\t {HSI_new[0]-HSI[0]:.4f} \\t {HSI_new[1]-HSI[1]:.4f} \\t {HSI_new[2]-HSI[2]:.4f}\")"
      ],
      "execution_count": 16,
      "outputs": [
        {
          "output_type": "stream",
          "text": [
            "TASK 2\n",
            "Image \t \t H_diff \t  S_diff \t  I_diff\n",
            "1.tiff \t \t 84.5641 \t 0.0000 \t 0.0000\n",
            "2.tiff \t \t -121.6403 \t 0.0000 \t 0.0000\n",
            "3.tiff \t \t -1.2233 \t 0.0000 \t 0.0000\n",
            "4.tiff \t \t 223.1328 \t 0.0000 \t 0.0000\n",
            "5.tiff \t \t -6.3182 \t 0.0000 \t 0.0000\n",
            "6.tiff \t \t 81.1576 \t 0.0000 \t 0.0000\n",
            "7.tiff \t \t -92.5622 \t 0.0000 \t 0.0000\n",
            "8.tiff \t \t 45.8623 \t 0.0000 \t 0.0000\n",
            "9.tiff \t \t 201.1653 \t 0.0000 \t 0.0000\n",
            "10.tiff \t 75.7435 \t 0.0000 \t 0.0000\n"
          ],
          "name": "stdout"
        }
      ]
    },
    {
      "cell_type": "code",
      "metadata": {
        "id": "RvsfxlZgk9Tn",
        "colab": {
          "base_uri": "https://localhost:8080/"
        },
        "outputId": "82f4ecf6-b904-4a9b-d42c-e9d44d03b742"
      },
      "source": [
        "#Task 3 \n",
        "print(\"TASK 3\")\n",
        "print(\"Image \\t \\t H_diff \\t  S_diff \\t  I_diff\")\n",
        "for i in range(0,len(images)):\n",
        "  img = images[i]\n",
        "  HSI = RGBtoHSI(img)\n",
        "  ##AWB through Gray world Assumption\n",
        "  r,g,b = img[:,:,0],img[:,:,1],img[:,:,2]\n",
        "  avg_rgb = [np.average(r),np.average(g),np.average(b)]\n",
        "  m = min(avg_rgb)\n",
        "  r = r*m/avg_rgb[0]\n",
        "  g = g*m/avg_rgb[1]\n",
        "  b = b*m/avg_rgb[2]\n",
        "  img_mod = np.stack([r,g,b],axis=-1)\n",
        "  HSI_new = RGBtoHSI(img_mod)\n",
        "  if i==9:\n",
        "    print(f\"{i+1}.tiff \\t {HSI_new[0]-HSI[0]:.4f} \\t {HSI_new[1]-HSI[1]:.4f} \\t {HSI_new[2]-HSI[2]:.4f}\")\n",
        "  else:\n",
        "    print(f\"{i+1}.tiff \\t \\t {HSI_new[0]-HSI[0]:.4f} \\t {HSI_new[1]-HSI[1]:.4f} \\t {HSI_new[2]-HSI[2]:.4f}\")"
      ],
      "execution_count": 48,
      "outputs": [
        {
          "output_type": "stream",
          "text": [
            "TASK 3\n",
            "Image \t \t H_diff \t  S_diff \t  I_diff\n",
            "1.tiff \t \t 42.4514 \t -0.0279 \t -0.0253\n",
            "2.tiff \t \t -75.8391 \t 0.0014 \t -0.0730\n",
            "3.tiff \t \t -15.4723 \t 0.0053 \t -0.0295\n",
            "4.tiff \t \t 114.9365 \t -0.0682 \t -0.0982\n",
            "5.tiff \t \t -66.6907 \t -0.1502 \t -0.1506\n",
            "6.tiff \t \t 37.2532 \t -0.0070 \t -0.0523\n",
            "7.tiff \t \t -54.4535 \t 0.0092 \t -0.0167\n",
            "8.tiff \t \t 50.7070 \t 0.0043 \t -0.0334\n",
            "9.tiff \t \t 106.4518 \t -0.1056 \t -0.1730\n",
            "10.tiff \t -14.5038 \t -0.1297 \t -0.1144\n"
          ],
          "name": "stdout"
        }
      ]
    }
  ]
}